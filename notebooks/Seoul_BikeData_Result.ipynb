{
  "nbformat": 4,
  "nbformat_minor": 0,
  "metadata": {
    "colab": {
      "provenance": []
    },
    "kernelspec": {
      "name": "ir",
      "display_name": "R"
    },
    "language_info": {
      "name": "R"
    }
  },
  "cells": [
    {
      "cell_type": "code",
      "execution_count": null,
      "metadata": {
        "id": "0Ue-zCkwaUNb",
        "colab": {
          "base_uri": "https://localhost:8080/"
        },
        "outputId": "1422040b-4b13-4146-9c1f-9c73431a7e83"
      },
      "outputs": [
        {
          "output_type": "stream",
          "name": "stderr",
          "text": [
            "Installing package into ‘/usr/local/lib/R/site-library’\n",
            "(as ‘lib’ is unspecified)\n",
            "\n",
            "Installing package into ‘/usr/local/lib/R/site-library’\n",
            "(as ‘lib’ is unspecified)\n",
            "\n",
            "Installing package into ‘/usr/local/lib/R/site-library’\n",
            "(as ‘lib’ is unspecified)\n",
            "\n",
            "Installing package into ‘/usr/local/lib/R/site-library’\n",
            "(as ‘lib’ is unspecified)\n",
            "\n",
            "Installing package into ‘/usr/local/lib/R/site-library’\n",
            "(as ‘lib’ is unspecified)\n",
            "\n",
            "Installing package into ‘/usr/local/lib/R/site-library’\n",
            "(as ‘lib’ is unspecified)\n",
            "\n",
            "Installing package into ‘/usr/local/lib/R/site-library’\n",
            "(as ‘lib’ is unspecified)\n",
            "\n",
            "Installing package into ‘/usr/local/lib/R/site-library’\n",
            "(as ‘lib’ is unspecified)\n",
            "\n",
            "Installing package into ‘/usr/local/lib/R/site-library’\n",
            "(as ‘lib’ is unspecified)\n",
            "\n",
            "Installing package into ‘/usr/local/lib/R/site-library’\n",
            "(as ‘lib’ is unspecified)\n",
            "\n",
            "also installing the dependencies ‘RcppEigen’, ‘pbkrtest’, ‘lme4’\n",
            "\n",
            "\n",
            "Installing package into ‘/usr/local/lib/R/site-library’\n",
            "(as ‘lib’ is unspecified)\n",
            "\n"
          ]
        }
      ],
      "source": [
        "install.packages(\"ggplot2\")\n",
        "install.packages(\"infotheo\")\n",
        "install.packages(\"carData\")\n",
        "install.packages(\"forecast\")\n",
        "install.packages(\"psych\")\n",
        "install.packages(\"TSA\")\n",
        "install.packages(\"chron\")\n",
        "install.packages(\"caTools\")\n",
        "install.packages(\"caret\")\n",
        "install.packages('car')\n",
        "install.packages('corrplot')"
      ]
    },
    {
      "cell_type": "code",
      "source": [
        "library(carData)\n",
        "library(magrittr)\n",
        "library(dplyr)\n",
        "library(tidyr)\n",
        "library(infotheo)\n",
        "library(forecast)\n",
        "library(MASS)\n",
        "library(psych)\n",
        "library(TSA)\n",
        "library(forecast)\n",
        "library(chron)\n",
        "library(caTools)\n",
        "library(caret)\n",
        "library(ggplot2)\n",
        "library(car)\n",
        "library(corrplot)"
      ],
      "metadata": {
        "colab": {
          "base_uri": "https://localhost:8080/"
        },
        "id": "KougNjpemMrh",
        "outputId": "31942d7f-c1e0-49c8-d3e8-096d91df6044"
      },
      "execution_count": null,
      "outputs": [
        {
          "output_type": "stream",
          "name": "stderr",
          "text": [
            "\n",
            "Attaching package: ‘car’\n",
            "\n",
            "\n",
            "The following object is masked from ‘package:psych’:\n",
            "\n",
            "    logit\n",
            "\n",
            "\n",
            "The following object is masked from ‘package:dplyr’:\n",
            "\n",
            "    recode\n",
            "\n",
            "\n",
            "corrplot 0.95 loaded\n",
            "\n"
          ]
        }
      ]
    },
    {
      "cell_type": "markdown",
      "source": [
        "# FINAL RESULTS"
      ],
      "metadata": {
        "id": "GEbKJ-pcACLw"
      }
    },
    {
      "cell_type": "markdown",
      "metadata": {
        "id": "UQ87kRb2yVCu"
      },
      "source": [
        "## Best Model Selection"
      ]
    },
    {
      "cell_type": "markdown",
      "metadata": {
        "id": "ZB56QHxRyfZa"
      },
      "source": [
        "To select final model we will use criteria like final models accuracy with r2, model’s residual analysis, adaquecy test’s results of each model.\n",
        "\n",
        "**Model 1 (model1_BC_fit)**\n",
        "\n",
        "- It has **Multiple R-squared of 71.55%**, which is can be consider as good fit.\n",
        "- It **passes** the multicollinearity **VIF** test.\n",
        "- In the residual plots, residuals vs. fitted plot shows slight curve which is indication of **possible non-linear relationships**.\n",
        "- QQ plot looks good.\n",
        "- In Scale-Location plot we can see residuals are not spreaded equally along the ranges of predictors. which means it might not have constant variance and the nvcTest proves that point.\n",
        "- Plot of Cook’s ditstance looks good.\n",
        "- Durbin Watson test proves no autocorrelation in model\n",
        "- Shapiro Wilk test failed to perfomes due to extremly large dataset (shown error with code)\n",
        "\n",
        "Due to non constant variance we will reject this model\n",
        "\n",
        "** Model 2 (bike_by_day_BC_fit)**\n",
        "- It has **Multiple R-squared of 86%**, which is can be consider as good fit.\n",
        "- It **passes** the multicollinearity **VIF** test.\n",
        "- In the residual plots, residuals vs. fitted plot shows **staight line** which is indication of **no non-linear relationships**.\n",
        "- QQ plot looks good.\n",
        "- In Scale-Location plot we can’t see the **spreaded residuals well** but from nvcTest we can determine that model **fails constant variance test**.\n",
        "- Plot of Cook’s ditstance looks good.\n",
        "- Durbin Watson test proves **no autocorrelation** in model\n",
        "- Shapiro Wilk test proves the residuals are **normally distributed**.\n",
        "\n",
        "Due to non constant variance we will **reject** this model because it **fails the models confidence in prediction**.\n",
        "\n",
        "**Model 3 (bike_AMPM_BC_fit)**\n",
        "- It has **Multiple R-squared of 71.79%**, which is can be consider as good fit.\n",
        "- It **passes** the multicollinearity **VIF** test.\n",
        "- In the residual plots, residuals vs. fitted plot shows **slight curve** which is indication of **possible non-linear relationships**.\n",
        "- From QQ plot we can see from quantile 2 residuals are **not on dotted line** which it may **fails normalitiy test**.\n",
        "- In Scale-Location plot we can see residuals are **not spreaded equally** along the ranges of predictors. which means it might **not** have constant variance and the nvcTest proves that point.\n",
        "- Plot of Cook’s ditstance looks good.\n",
        "- Durbin Watson test proves **no autocorrelation** in model\n",
        "- Shapiro Wilk test proves the residuals are **not normally distributed** as we mentioned from QQ-plot.\n",
        "\n",
        "Due to non constant variance and not normally distribution we will **reject** this model because it **fails the models confidence in prediction**.\n",
        "\n",
        "**Model 4 (bike_AMPM_BC_fit)**\n",
        "- It has **Multiple R-squared of 87.69%**, which is can be consider as good fit.\n",
        "- It **passes** the multicollinearity **VIF** test.\n",
        "In the residual plots, residuals vs. fitted plot shows **straight line** which is indication of no non-linear relationships.\n",
        "- QQ plot looks good.\n",
        "- Scale-Location plot we can see residuals are **spreaded somewhat equally** along the ranges of predictors. which means it may have constant variance and from the nvcTest we **can prove that model has constant vaiance**.\n",
        "- Plot of Cook’s ditstance looks good.\n",
        "- Durbin Watson test proves **no autocorrelation** in model\n",
        "- Shapiro Wilk test **fails** to proves that **residuals are normally distributed**.\n",
        "- Model 4’s P-value of the normality test is less than 0.05 and therefore, the **residuals** of the data is **not normally distributed**. However, as the **dataset is not too small**, the p-value is **not too much smaller than 0.05**, and the model **pass** the rest of the tests, we conclude that Model 4 can **adequately predict** the bike demand and is by far, the best model.\n",
        "\n",
        "Due to this reasons we will **select** model 4 as out best model and will predict the data using model 4."
      ]
    },
    {
      "cell_type": "markdown",
      "metadata": {
        "id": "-wLgMTAlz2XV"
      },
      "source": [
        "## Best Model's Prediction"
      ]
    },
    {
      "cell_type": "markdown",
      "source": [
        "We have selected model 4 as our best model and to predict values using this model we will be using the model 4’s prediction dataset which is model4_prediction."
      ],
      "metadata": {
        "id": "jINi0F0SsvWX"
      }
    },
    {
      "cell_type": "code",
      "execution_count": null,
      "metadata": {
        "id": "I8awR4a6ye2h",
        "colab": {
          "base_uri": "https://localhost:8080/",
          "height": 410
        },
        "outputId": "0570fa14-c9d7-446e-fed3-ef4b034cb427"
      },
      "outputs": [
        {
          "output_type": "display_data",
          "data": {
            "text/html": [
              "<table class=\"dataframe\">\n",
              "<caption>A tibble: 6 × 13</caption>\n",
              "<thead>\n",
              "\t<tr><th scope=col>date</th><th scope=col>sum_bike_count</th><th scope=col>mean_temp</th><th scope=col>mean_humidity</th><th scope=col>mean_wind_speed</th><th scope=col>mean_visibility</th><th scope=col>mean_dew_point_temp</th><th scope=col>mean_solar_radiation</th><th scope=col>mean_rainfall</th><th scope=col>mean_snowfall</th><th scope=col>seasons</th><th scope=col>holiday</th><th scope=col>weekend</th></tr>\n",
              "\t<tr><th scope=col>&lt;date&gt;</th><th scope=col>&lt;dbl&gt;</th><th scope=col>&lt;dbl&gt;</th><th scope=col>&lt;dbl&gt;</th><th scope=col>&lt;dbl&gt;</th><th scope=col>&lt;dbl&gt;</th><th scope=col>&lt;dbl&gt;</th><th scope=col>&lt;dbl&gt;</th><th scope=col>&lt;dbl&gt;</th><th scope=col>&lt;dbl&gt;</th><th scope=col>&lt;fct&gt;</th><th scope=col>&lt;fct&gt;</th><th scope=col>&lt;fct&gt;</th></tr>\n",
              "</thead>\n",
              "<tbody>\n",
              "\t<tr><td>2020-07-01</td><td>14.95501</td><td>4.626809</td><td>6.562681</td><td>0.9477868</td><td>11.46214</td><td>5.068687</td><td>0.1107553</td><td>1.625085347</td><td>0</td><td>Summer</td><td>Holiday</td><td>FALSE</td></tr>\n",
              "\t<tr><td>2020-12-01</td><td>17.79364</td><td>3.067996</td><td>5.629152</td><td>1.2545368</td><td>12.99432</td><td>3.257923</td><td>0.2491344</td><td>0.000000000</td><td>0</td><td>Autumn</td><td>Holiday</td><td>FALSE</td></tr>\n",
              "\t<tr><td>2020-04-02</td><td>20.42867</td><td>4.458477</td><td>6.067581</td><td>1.4139963</td><td>11.79801</td><td>4.717417</td><td>0.4965922</td><td>0.000000000</td><td>0</td><td>Spring</td><td>Holiday</td><td>FALSE</td></tr>\n",
              "\t<tr><td>2020-08-02</td><td>20.28287</td><td>5.065215</td><td>5.808769</td><td>1.2545368</td><td>12.76677</td><td>5.127429</td><td>0.6125408</td><td>0.000000000</td><td>0</td><td>Summer</td><td>Holiday</td><td>TRUE </td></tr>\n",
              "\t<tr><td>2020-09-04</td><td>21.54331</td><td>4.677983</td><td>6.185999</td><td>1.4653797</td><td>12.40964</td><td>4.941574</td><td>0.6865550</td><td>0.000000000</td><td>0</td><td>Winter</td><td>Holiday</td><td>FALSE</td></tr>\n",
              "\t<tr><td>2020-12-04</td><td>17.53166</td><td>3.279164</td><td>5.787782</td><td>1.8152825</td><td>12.26274</td><td>3.565130</td><td>0.2764101</td><td>0.004159121</td><td>0</td><td>Autumn</td><td>Holiday</td><td>FALSE</td></tr>\n",
              "</tbody>\n",
              "</table>\n"
            ],
            "text/markdown": "\nA tibble: 6 × 13\n\n| date &lt;date&gt; | sum_bike_count &lt;dbl&gt; | mean_temp &lt;dbl&gt; | mean_humidity &lt;dbl&gt; | mean_wind_speed &lt;dbl&gt; | mean_visibility &lt;dbl&gt; | mean_dew_point_temp &lt;dbl&gt; | mean_solar_radiation &lt;dbl&gt; | mean_rainfall &lt;dbl&gt; | mean_snowfall &lt;dbl&gt; | seasons &lt;fct&gt; | holiday &lt;fct&gt; | weekend &lt;fct&gt; |\n|---|---|---|---|---|---|---|---|---|---|---|---|---|\n| 2020-07-01 | 14.95501 | 4.626809 | 6.562681 | 0.9477868 | 11.46214 | 5.068687 | 0.1107553 | 1.625085347 | 0 | Summer | Holiday | FALSE |\n| 2020-12-01 | 17.79364 | 3.067996 | 5.629152 | 1.2545368 | 12.99432 | 3.257923 | 0.2491344 | 0.000000000 | 0 | Autumn | Holiday | FALSE |\n| 2020-04-02 | 20.42867 | 4.458477 | 6.067581 | 1.4139963 | 11.79801 | 4.717417 | 0.4965922 | 0.000000000 | 0 | Spring | Holiday | FALSE |\n| 2020-08-02 | 20.28287 | 5.065215 | 5.808769 | 1.2545368 | 12.76677 | 5.127429 | 0.6125408 | 0.000000000 | 0 | Summer | Holiday | TRUE  |\n| 2020-09-04 | 21.54331 | 4.677983 | 6.185999 | 1.4653797 | 12.40964 | 4.941574 | 0.6865550 | 0.000000000 | 0 | Winter | Holiday | FALSE |\n| 2020-12-04 | 17.53166 | 3.279164 | 5.787782 | 1.8152825 | 12.26274 | 3.565130 | 0.2764101 | 0.004159121 | 0 | Autumn | Holiday | FALSE |\n\n",
            "text/latex": "A tibble: 6 × 13\n\\begin{tabular}{lllllllllllll}\n date & sum\\_bike\\_count & mean\\_temp & mean\\_humidity & mean\\_wind\\_speed & mean\\_visibility & mean\\_dew\\_point\\_temp & mean\\_solar\\_radiation & mean\\_rainfall & mean\\_snowfall & seasons & holiday & weekend\\\\\n <date> & <dbl> & <dbl> & <dbl> & <dbl> & <dbl> & <dbl> & <dbl> & <dbl> & <dbl> & <fct> & <fct> & <fct>\\\\\n\\hline\n\t 2020-07-01 & 14.95501 & 4.626809 & 6.562681 & 0.9477868 & 11.46214 & 5.068687 & 0.1107553 & 1.625085347 & 0 & Summer & Holiday & FALSE\\\\\n\t 2020-12-01 & 17.79364 & 3.067996 & 5.629152 & 1.2545368 & 12.99432 & 3.257923 & 0.2491344 & 0.000000000 & 0 & Autumn & Holiday & FALSE\\\\\n\t 2020-04-02 & 20.42867 & 4.458477 & 6.067581 & 1.4139963 & 11.79801 & 4.717417 & 0.4965922 & 0.000000000 & 0 & Spring & Holiday & FALSE\\\\\n\t 2020-08-02 & 20.28287 & 5.065215 & 5.808769 & 1.2545368 & 12.76677 & 5.127429 & 0.6125408 & 0.000000000 & 0 & Summer & Holiday & TRUE \\\\\n\t 2020-09-04 & 21.54331 & 4.677983 & 6.185999 & 1.4653797 & 12.40964 & 4.941574 & 0.6865550 & 0.000000000 & 0 & Winter & Holiday & FALSE\\\\\n\t 2020-12-04 & 17.53166 & 3.279164 & 5.787782 & 1.8152825 & 12.26274 & 3.565130 & 0.2764101 & 0.004159121 & 0 & Autumn & Holiday & FALSE\\\\\n\\end{tabular}\n",
            "text/plain": [
              "  date       sum_bike_count mean_temp mean_humidity mean_wind_speed\n",
              "1 2020-07-01 14.95501       4.626809  6.562681      0.9477868      \n",
              "2 2020-12-01 17.79364       3.067996  5.629152      1.2545368      \n",
              "3 2020-04-02 20.42867       4.458477  6.067581      1.4139963      \n",
              "4 2020-08-02 20.28287       5.065215  5.808769      1.2545368      \n",
              "5 2020-09-04 21.54331       4.677983  6.185999      1.4653797      \n",
              "6 2020-12-04 17.53166       3.279164  5.787782      1.8152825      \n",
              "  mean_visibility mean_dew_point_temp mean_solar_radiation mean_rainfall\n",
              "1 11.46214        5.068687            0.1107553            1.625085347  \n",
              "2 12.99432        3.257923            0.2491344            0.000000000  \n",
              "3 11.79801        4.717417            0.4965922            0.000000000  \n",
              "4 12.76677        5.127429            0.6125408            0.000000000  \n",
              "5 12.40964        4.941574            0.6865550            0.000000000  \n",
              "6 12.26274        3.565130            0.2764101            0.004159121  \n",
              "  mean_snowfall seasons holiday weekend\n",
              "1 0             Summer  Holiday FALSE  \n",
              "2 0             Autumn  Holiday FALSE  \n",
              "3 0             Spring  Holiday FALSE  \n",
              "4 0             Summer  Holiday TRUE   \n",
              "5 0             Winter  Holiday FALSE  \n",
              "6 0             Autumn  Holiday FALSE  "
            ]
          },
          "metadata": {}
        }
      ],
      "source": [
        "# we will transform this series to positive by adding absulute smallest value to whole dataset by their columns to pe\n",
        "\n",
        "for (i in colnames(model4_prediction)){\n",
        "  if(class(model4_prediction[[i]]) == \"integer\" | class(model4_prediction[[i]]) == \"numeric\"){\n",
        "    model4_prediction[i] <- model4_prediction[i] + (abs(min(bike_by_day[i])))+1\n",
        "  }\n",
        "}\n",
        "\n",
        "# Box-cox transformatino using lambda\n",
        "transform_boxcox <- function(data)\n",
        "{\n",
        "  # box-cox transformation\n",
        "  data = ((data^lambda_val)-1)/lambda_val\n",
        "  return(data)\n",
        "}\n",
        "\n",
        "for (i in colnames(model4_prediction)){\n",
        "  if(class(model4_prediction[[i]]) == \"integer\" | class(model4_prediction[[i]]) == \"numeric\"){\n",
        "    model4_prediction[i] <- transform_boxcox(model4_prediction[i])\n",
        "  }\n",
        "}\n",
        "\n",
        "\n",
        "head(model4_prediction)"
      ]
    },
    {
      "cell_type": "markdown",
      "source": [
        "From the BoxCox transformation we get lambda value of 0.128451. We will use this to transforme the data from the model4_prediction"
      ],
      "metadata": {
        "id": "8mk8r11mtDHd"
      }
    },
    {
      "cell_type": "code",
      "execution_count": null,
      "metadata": {
        "id": "jXORw1Q70B9r"
      },
      "outputs": [],
      "source": [
        "# creating function to predict the bike counts\n",
        "pred_bike_count <- function(mean_humidity, mean_wind_speed, mean_dew_point_temp,  mean_solar_radiation, mean_rainfall, seasons, holiday, weekend){\n",
        "  seasonsSummer = 0\n",
        "  seasonsAutumn = 0\n",
        "  seasonsSpring = 0\n",
        "  holidayHoliday = 0\n",
        "  weekendTRUE = 0\n",
        "\n",
        "  # Assinging value as 1 if they exist in data\n",
        "  if(seasons == \"Summer\"){\n",
        "    seasonsSummer = 1\n",
        "  } else if(seasons == \"Autumn\"){\n",
        "    seasonsAutumn = 1\n",
        "  } else{\n",
        "    seasonsSpring = 1\n",
        "  }\n",
        "\n",
        "  if(holiday == \"Holiday\"){\n",
        "    holidayHoliday = 1\n",
        "  }\n",
        "\n",
        "  if(weekendTRUE == \"TRUE\"){\n",
        "    weekendTRUE = 1\n",
        "  }\n",
        "\n",
        "  # fitted eqN of model 4\n",
        "  y =  19.4886 - 0.8255 * mean_humidity - 1.0416 * mean_wind_speed + 1.0738 * mean_dew_point_temp + 3.4083 * mean_solar_radiation - 1.9489 * mean_rainfall - 1.0351 * seasonsSpring - 0.4055 * seasonsSummer -2.4737 * seasonsAutumn + 0.8703 * holidayHoliday + 0.2655 * weekendTRUE\n",
        "\n",
        "  return(as.numeric(y))\n",
        "}"
      ]
    },
    {
      "cell_type": "markdown",
      "metadata": {
        "id": "lEjzObhY0DB0"
      },
      "source": [
        "## Predicting Values"
      ]
    },
    {
      "cell_type": "code",
      "execution_count": null,
      "metadata": {
        "id": "x1Crx8A80FNV",
        "colab": {
          "base_uri": "https://localhost:8080/",
          "height": 167
        },
        "outputId": "08c52f2b-ea73-40a8-9813-1b7be98f8da3"
      },
      "outputs": [
        {
          "output_type": "display_data",
          "data": {
            "text/html": [
              "<table class=\"dataframe\">\n",
              "<caption>A tibble: 1 × 13</caption>\n",
              "<thead>\n",
              "\t<tr><th scope=col>date</th><th scope=col>sum_bike_count</th><th scope=col>mean_temp</th><th scope=col>mean_humidity</th><th scope=col>mean_wind_speed</th><th scope=col>mean_visibility</th><th scope=col>mean_dew_point_temp</th><th scope=col>mean_solar_radiation</th><th scope=col>mean_rainfall</th><th scope=col>mean_snowfall</th><th scope=col>seasons</th><th scope=col>holiday</th><th scope=col>weekend</th></tr>\n",
              "\t<tr><th scope=col>&lt;date&gt;</th><th scope=col>&lt;dbl&gt;</th><th scope=col>&lt;dbl&gt;</th><th scope=col>&lt;dbl&gt;</th><th scope=col>&lt;dbl&gt;</th><th scope=col>&lt;dbl&gt;</th><th scope=col>&lt;dbl&gt;</th><th scope=col>&lt;dbl&gt;</th><th scope=col>&lt;dbl&gt;</th><th scope=col>&lt;dbl&gt;</th><th scope=col>&lt;fct&gt;</th><th scope=col>&lt;fct&gt;</th><th scope=col>&lt;fct&gt;</th></tr>\n",
              "</thead>\n",
              "<tbody>\n",
              "\t<tr><td>2020-07-01</td><td>14.95501</td><td>4.626809</td><td>6.562681</td><td>0.9477868</td><td>11.46214</td><td>5.068687</td><td>0.1107553</td><td>1.625085</td><td>0</td><td>Summer</td><td>Holiday</td><td>FALSE</td></tr>\n",
              "</tbody>\n",
              "</table>\n"
            ],
            "text/markdown": "\nA tibble: 1 × 13\n\n| date &lt;date&gt; | sum_bike_count &lt;dbl&gt; | mean_temp &lt;dbl&gt; | mean_humidity &lt;dbl&gt; | mean_wind_speed &lt;dbl&gt; | mean_visibility &lt;dbl&gt; | mean_dew_point_temp &lt;dbl&gt; | mean_solar_radiation &lt;dbl&gt; | mean_rainfall &lt;dbl&gt; | mean_snowfall &lt;dbl&gt; | seasons &lt;fct&gt; | holiday &lt;fct&gt; | weekend &lt;fct&gt; |\n|---|---|---|---|---|---|---|---|---|---|---|---|---|\n| 2020-07-01 | 14.95501 | 4.626809 | 6.562681 | 0.9477868 | 11.46214 | 5.068687 | 0.1107553 | 1.625085 | 0 | Summer | Holiday | FALSE |\n\n",
            "text/latex": "A tibble: 1 × 13\n\\begin{tabular}{lllllllllllll}\n date & sum\\_bike\\_count & mean\\_temp & mean\\_humidity & mean\\_wind\\_speed & mean\\_visibility & mean\\_dew\\_point\\_temp & mean\\_solar\\_radiation & mean\\_rainfall & mean\\_snowfall & seasons & holiday & weekend\\\\\n <date> & <dbl> & <dbl> & <dbl> & <dbl> & <dbl> & <dbl> & <dbl> & <dbl> & <dbl> & <fct> & <fct> & <fct>\\\\\n\\hline\n\t 2020-07-01 & 14.95501 & 4.626809 & 6.562681 & 0.9477868 & 11.46214 & 5.068687 & 0.1107553 & 1.625085 & 0 & Summer & Holiday & FALSE\\\\\n\\end{tabular}\n",
            "text/plain": [
              "  date       sum_bike_count mean_temp mean_humidity mean_wind_speed\n",
              "1 2020-07-01 14.95501       4.626809  6.562681      0.9477868      \n",
              "  mean_visibility mean_dew_point_temp mean_solar_radiation mean_rainfall\n",
              "1 11.46214        5.068687            0.1107553            1.625085     \n",
              "  mean_snowfall seasons holiday weekend\n",
              "1 0             Summer  Holiday FALSE  "
            ]
          },
          "metadata": {}
        }
      ],
      "source": [
        "model4_prediction[1,] # first row of model 4 prediction"
      ]
    },
    {
      "cell_type": "code",
      "execution_count": null,
      "metadata": {
        "id": "IQPxllLu0Jp9",
        "colab": {
          "base_uri": "https://localhost:8080/",
          "height": 34
        },
        "outputId": "87d357ce-c247-4992-c6ad-cb8a90dcc3f4"
      },
      "outputs": [
        {
          "output_type": "display_data",
          "data": {
            "text/html": [
              "16.2018069626727"
            ],
            "text/markdown": "16.2018069626727",
            "text/latex": "16.2018069626727",
            "text/plain": [
              "[1] 16.20181"
            ]
          },
          "metadata": {}
        }
      ],
      "source": [
        "prediction1 <- pred_bike_count(\n",
        "  model4_prediction[1,\"mean_humidity\"],\n",
        "  model4_prediction[1,\"mean_wind_speed\"],\n",
        "  model4_prediction[1,\"mean_dew_point_temp\"],\n",
        "  model4_prediction[1,\"mean_solar_radiation\"],\n",
        "  model4_prediction[1,\"mean_rainfall\"],\n",
        "  model4_prediction[1,\"seasons\"],\n",
        "  model4_prediction[1,\"holiday\"],\n",
        "  model4_prediction[1,\"weekend\"]\n",
        "  )\n",
        "\n",
        "prediction1"
      ]
    },
    {
      "cell_type": "code",
      "execution_count": null,
      "metadata": {
        "id": "PTgz4aQH0MCj",
        "colab": {
          "base_uri": "https://localhost:8080/",
          "height": 167
        },
        "outputId": "bd1e6ae9-a99d-4e23-cc2b-efaa0adaba71"
      },
      "outputs": [
        {
          "output_type": "display_data",
          "data": {
            "text/html": [
              "<table class=\"dataframe\">\n",
              "<caption>A tibble: 1 × 13</caption>\n",
              "<thead>\n",
              "\t<tr><th scope=col>date</th><th scope=col>sum_bike_count</th><th scope=col>mean_temp</th><th scope=col>mean_humidity</th><th scope=col>mean_wind_speed</th><th scope=col>mean_visibility</th><th scope=col>mean_dew_point_temp</th><th scope=col>mean_solar_radiation</th><th scope=col>mean_rainfall</th><th scope=col>mean_snowfall</th><th scope=col>seasons</th><th scope=col>holiday</th><th scope=col>weekend</th></tr>\n",
              "\t<tr><th scope=col>&lt;date&gt;</th><th scope=col>&lt;dbl&gt;</th><th scope=col>&lt;dbl&gt;</th><th scope=col>&lt;dbl&gt;</th><th scope=col>&lt;dbl&gt;</th><th scope=col>&lt;dbl&gt;</th><th scope=col>&lt;dbl&gt;</th><th scope=col>&lt;dbl&gt;</th><th scope=col>&lt;dbl&gt;</th><th scope=col>&lt;dbl&gt;</th><th scope=col>&lt;fct&gt;</th><th scope=col>&lt;fct&gt;</th><th scope=col>&lt;fct&gt;</th></tr>\n",
              "</thead>\n",
              "<tbody>\n",
              "\t<tr><td>2020-12-01</td><td>17.79364</td><td>3.067996</td><td>5.629152</td><td>1.254537</td><td>12.99432</td><td>3.257923</td><td>0.2491344</td><td>0</td><td>0</td><td>Autumn</td><td>Holiday</td><td>FALSE</td></tr>\n",
              "</tbody>\n",
              "</table>\n"
            ],
            "text/markdown": "\nA tibble: 1 × 13\n\n| date &lt;date&gt; | sum_bike_count &lt;dbl&gt; | mean_temp &lt;dbl&gt; | mean_humidity &lt;dbl&gt; | mean_wind_speed &lt;dbl&gt; | mean_visibility &lt;dbl&gt; | mean_dew_point_temp &lt;dbl&gt; | mean_solar_radiation &lt;dbl&gt; | mean_rainfall &lt;dbl&gt; | mean_snowfall &lt;dbl&gt; | seasons &lt;fct&gt; | holiday &lt;fct&gt; | weekend &lt;fct&gt; |\n|---|---|---|---|---|---|---|---|---|---|---|---|---|\n| 2020-12-01 | 17.79364 | 3.067996 | 5.629152 | 1.254537 | 12.99432 | 3.257923 | 0.2491344 | 0 | 0 | Autumn | Holiday | FALSE |\n\n",
            "text/latex": "A tibble: 1 × 13\n\\begin{tabular}{lllllllllllll}\n date & sum\\_bike\\_count & mean\\_temp & mean\\_humidity & mean\\_wind\\_speed & mean\\_visibility & mean\\_dew\\_point\\_temp & mean\\_solar\\_radiation & mean\\_rainfall & mean\\_snowfall & seasons & holiday & weekend\\\\\n <date> & <dbl> & <dbl> & <dbl> & <dbl> & <dbl> & <dbl> & <dbl> & <dbl> & <dbl> & <fct> & <fct> & <fct>\\\\\n\\hline\n\t 2020-12-01 & 17.79364 & 3.067996 & 5.629152 & 1.254537 & 12.99432 & 3.257923 & 0.2491344 & 0 & 0 & Autumn & Holiday & FALSE\\\\\n\\end{tabular}\n",
            "text/plain": [
              "  date       sum_bike_count mean_temp mean_humidity mean_wind_speed\n",
              "1 2020-12-01 17.79364       3.067996  5.629152      1.254537       \n",
              "  mean_visibility mean_dew_point_temp mean_solar_radiation mean_rainfall\n",
              "1 12.99432        3.257923            0.2491344            0            \n",
              "  mean_snowfall seasons holiday weekend\n",
              "1 0             Autumn  Holiday FALSE  "
            ]
          },
          "metadata": {}
        }
      ],
      "source": [
        "model4_prediction[2,] # second row of model 4 prediction"
      ]
    },
    {
      "cell_type": "code",
      "execution_count": null,
      "metadata": {
        "id": "SKKVu94Z0OT1",
        "colab": {
          "base_uri": "https://localhost:8080/",
          "height": 34
        },
        "outputId": "116d1501-290f-4710-e70c-ca01f7067827"
      },
      "outputs": [
        {
          "output_type": "display_data",
          "data": {
            "text/html": [
              "16.2790920678618"
            ],
            "text/markdown": "16.2790920678618",
            "text/latex": "16.2790920678618",
            "text/plain": [
              "[1] 16.27909"
            ]
          },
          "metadata": {}
        }
      ],
      "source": [
        "prediction2 <- pred_bike_count(\n",
        "  model4_prediction[2,\"mean_humidity\"],\n",
        "  model4_prediction[2,\"mean_wind_speed\"],\n",
        "  model4_prediction[2,\"mean_dew_point_temp\"],\n",
        "  model4_prediction[2,\"mean_solar_radiation\"],\n",
        "  model4_prediction[2,\"mean_rainfall\"],\n",
        "  model4_prediction[2,\"seasons\"],\n",
        "  model4_prediction[2,\"holiday\"],\n",
        "  model4_prediction[2,\"weekend\"]\n",
        "  )\n",
        "\n",
        "prediction2"
      ]
    },
    {
      "cell_type": "code",
      "execution_count": null,
      "metadata": {
        "id": "BQsfJN5q0QXF",
        "colab": {
          "base_uri": "https://localhost:8080/",
          "height": 167
        },
        "outputId": "30943e23-d786-411e-bb15-b75241335bd9"
      },
      "outputs": [
        {
          "output_type": "display_data",
          "data": {
            "text/html": [
              "<table class=\"dataframe\">\n",
              "<caption>A tibble: 1 × 13</caption>\n",
              "<thead>\n",
              "\t<tr><th scope=col>date</th><th scope=col>sum_bike_count</th><th scope=col>mean_temp</th><th scope=col>mean_humidity</th><th scope=col>mean_wind_speed</th><th scope=col>mean_visibility</th><th scope=col>mean_dew_point_temp</th><th scope=col>mean_solar_radiation</th><th scope=col>mean_rainfall</th><th scope=col>mean_snowfall</th><th scope=col>seasons</th><th scope=col>holiday</th><th scope=col>weekend</th></tr>\n",
              "\t<tr><th scope=col>&lt;date&gt;</th><th scope=col>&lt;dbl&gt;</th><th scope=col>&lt;dbl&gt;</th><th scope=col>&lt;dbl&gt;</th><th scope=col>&lt;dbl&gt;</th><th scope=col>&lt;dbl&gt;</th><th scope=col>&lt;dbl&gt;</th><th scope=col>&lt;dbl&gt;</th><th scope=col>&lt;dbl&gt;</th><th scope=col>&lt;dbl&gt;</th><th scope=col>&lt;fct&gt;</th><th scope=col>&lt;fct&gt;</th><th scope=col>&lt;fct&gt;</th></tr>\n",
              "</thead>\n",
              "<tbody>\n",
              "\t<tr><td>2020-04-02</td><td>20.42867</td><td>4.458477</td><td>6.067581</td><td>1.413996</td><td>11.79801</td><td>4.717417</td><td>0.4965922</td><td>0</td><td>0</td><td>Spring</td><td>Holiday</td><td>FALSE</td></tr>\n",
              "</tbody>\n",
              "</table>\n"
            ],
            "text/markdown": "\nA tibble: 1 × 13\n\n| date &lt;date&gt; | sum_bike_count &lt;dbl&gt; | mean_temp &lt;dbl&gt; | mean_humidity &lt;dbl&gt; | mean_wind_speed &lt;dbl&gt; | mean_visibility &lt;dbl&gt; | mean_dew_point_temp &lt;dbl&gt; | mean_solar_radiation &lt;dbl&gt; | mean_rainfall &lt;dbl&gt; | mean_snowfall &lt;dbl&gt; | seasons &lt;fct&gt; | holiday &lt;fct&gt; | weekend &lt;fct&gt; |\n|---|---|---|---|---|---|---|---|---|---|---|---|---|\n| 2020-04-02 | 20.42867 | 4.458477 | 6.067581 | 1.413996 | 11.79801 | 4.717417 | 0.4965922 | 0 | 0 | Spring | Holiday | FALSE |\n\n",
            "text/latex": "A tibble: 1 × 13\n\\begin{tabular}{lllllllllllll}\n date & sum\\_bike\\_count & mean\\_temp & mean\\_humidity & mean\\_wind\\_speed & mean\\_visibility & mean\\_dew\\_point\\_temp & mean\\_solar\\_radiation & mean\\_rainfall & mean\\_snowfall & seasons & holiday & weekend\\\\\n <date> & <dbl> & <dbl> & <dbl> & <dbl> & <dbl> & <dbl> & <dbl> & <dbl> & <dbl> & <fct> & <fct> & <fct>\\\\\n\\hline\n\t 2020-04-02 & 20.42867 & 4.458477 & 6.067581 & 1.413996 & 11.79801 & 4.717417 & 0.4965922 & 0 & 0 & Spring & Holiday & FALSE\\\\\n\\end{tabular}\n",
            "text/plain": [
              "  date       sum_bike_count mean_temp mean_humidity mean_wind_speed\n",
              "1 2020-04-02 20.42867       4.458477  6.067581      1.413996       \n",
              "  mean_visibility mean_dew_point_temp mean_solar_radiation mean_rainfall\n",
              "1 11.79801        4.717417            0.4965922            0            \n",
              "  mean_snowfall seasons holiday weekend\n",
              "1 0             Spring  Holiday FALSE  "
            ]
          },
          "metadata": {}
        }
      ],
      "source": [
        "model4_prediction[3,] # third row of model 4 prediction"
      ]
    },
    {
      "cell_type": "code",
      "execution_count": null,
      "metadata": {
        "id": "bDpOrY8v0R_0",
        "colab": {
          "base_uri": "https://localhost:8080/",
          "height": 34
        },
        "outputId": "f8dab2be-1b30-45d2-c0bc-c19a19f529ed"
      },
      "outputs": [
        {
          "output_type": "display_data",
          "data": {
            "text/html": [
              "19.6002910319721"
            ],
            "text/markdown": "19.6002910319721",
            "text/latex": "19.6002910319721",
            "text/plain": [
              "[1] 19.60029"
            ]
          },
          "metadata": {}
        }
      ],
      "source": [
        "prediction3 <- pred_bike_count(\n",
        "  model4_prediction[3,\"mean_humidity\"],\n",
        "  model4_prediction[3,\"mean_wind_speed\"],\n",
        "  model4_prediction[3,\"mean_dew_point_temp\"],\n",
        "  model4_prediction[3,\"mean_solar_radiation\"],\n",
        "  model4_prediction[3,\"mean_rainfall\"],\n",
        "  model4_prediction[3,\"seasons\"],\n",
        "  model4_prediction[3,\"holiday\"],\n",
        "  model4_prediction[3,\"weekend\"]\n",
        "  )\n",
        "\n",
        "prediction3"
      ]
    },
    {
      "cell_type": "code",
      "execution_count": null,
      "metadata": {
        "id": "Ji0ykiU90URD",
        "colab": {
          "base_uri": "https://localhost:8080/",
          "height": 167
        },
        "outputId": "896fcd31-aa8b-4167-87ea-54cd0f69dbf8"
      },
      "outputs": [
        {
          "output_type": "display_data",
          "data": {
            "text/html": [
              "<table class=\"dataframe\">\n",
              "<caption>A tibble: 1 × 13</caption>\n",
              "<thead>\n",
              "\t<tr><th scope=col>date</th><th scope=col>sum_bike_count</th><th scope=col>mean_temp</th><th scope=col>mean_humidity</th><th scope=col>mean_wind_speed</th><th scope=col>mean_visibility</th><th scope=col>mean_dew_point_temp</th><th scope=col>mean_solar_radiation</th><th scope=col>mean_rainfall</th><th scope=col>mean_snowfall</th><th scope=col>seasons</th><th scope=col>holiday</th><th scope=col>weekend</th></tr>\n",
              "\t<tr><th scope=col>&lt;date&gt;</th><th scope=col>&lt;dbl&gt;</th><th scope=col>&lt;dbl&gt;</th><th scope=col>&lt;dbl&gt;</th><th scope=col>&lt;dbl&gt;</th><th scope=col>&lt;dbl&gt;</th><th scope=col>&lt;dbl&gt;</th><th scope=col>&lt;dbl&gt;</th><th scope=col>&lt;dbl&gt;</th><th scope=col>&lt;dbl&gt;</th><th scope=col>&lt;fct&gt;</th><th scope=col>&lt;fct&gt;</th><th scope=col>&lt;fct&gt;</th></tr>\n",
              "</thead>\n",
              "<tbody>\n",
              "\t<tr><td>2020-08-02</td><td>20.28287</td><td>5.065215</td><td>5.808769</td><td>1.254537</td><td>12.76677</td><td>5.127429</td><td>0.6125408</td><td>0</td><td>0</td><td>Summer</td><td>Holiday</td><td>TRUE</td></tr>\n",
              "</tbody>\n",
              "</table>\n"
            ],
            "text/markdown": "\nA tibble: 1 × 13\n\n| date &lt;date&gt; | sum_bike_count &lt;dbl&gt; | mean_temp &lt;dbl&gt; | mean_humidity &lt;dbl&gt; | mean_wind_speed &lt;dbl&gt; | mean_visibility &lt;dbl&gt; | mean_dew_point_temp &lt;dbl&gt; | mean_solar_radiation &lt;dbl&gt; | mean_rainfall &lt;dbl&gt; | mean_snowfall &lt;dbl&gt; | seasons &lt;fct&gt; | holiday &lt;fct&gt; | weekend &lt;fct&gt; |\n|---|---|---|---|---|---|---|---|---|---|---|---|---|\n| 2020-08-02 | 20.28287 | 5.065215 | 5.808769 | 1.254537 | 12.76677 | 5.127429 | 0.6125408 | 0 | 0 | Summer | Holiday | TRUE |\n\n",
            "text/latex": "A tibble: 1 × 13\n\\begin{tabular}{lllllllllllll}\n date & sum\\_bike\\_count & mean\\_temp & mean\\_humidity & mean\\_wind\\_speed & mean\\_visibility & mean\\_dew\\_point\\_temp & mean\\_solar\\_radiation & mean\\_rainfall & mean\\_snowfall & seasons & holiday & weekend\\\\\n <date> & <dbl> & <dbl> & <dbl> & <dbl> & <dbl> & <dbl> & <dbl> & <dbl> & <dbl> & <fct> & <fct> & <fct>\\\\\n\\hline\n\t 2020-08-02 & 20.28287 & 5.065215 & 5.808769 & 1.254537 & 12.76677 & 5.127429 & 0.6125408 & 0 & 0 & Summer & Holiday & TRUE\\\\\n\\end{tabular}\n",
            "text/plain": [
              "  date       sum_bike_count mean_temp mean_humidity mean_wind_speed\n",
              "1 2020-08-02 20.28287       5.065215  5.808769      1.254537       \n",
              "  mean_visibility mean_dew_point_temp mean_solar_radiation mean_rainfall\n",
              "1 12.76677        5.127429            0.6125408            0            \n",
              "  mean_snowfall seasons holiday weekend\n",
              "1 0             Summer  Holiday TRUE   "
            ]
          },
          "metadata": {}
        }
      ],
      "source": [
        "model4_prediction[4,] # four row of model 4 prediction"
      ]
    },
    {
      "cell_type": "code",
      "execution_count": null,
      "metadata": {
        "id": "zn3swylm0Wd-",
        "colab": {
          "base_uri": "https://localhost:8080/",
          "height": 34
        },
        "outputId": "0e9b65d6-e8d4-4e09-d271-0b618db72786"
      },
      "outputs": [
        {
          "output_type": "display_data",
          "data": {
            "text/html": [
              "21.4450917384742"
            ],
            "text/markdown": "21.4450917384742",
            "text/latex": "21.4450917384742",
            "text/plain": [
              "[1] 21.44509"
            ]
          },
          "metadata": {}
        }
      ],
      "source": [
        "prediction4 <- pred_bike_count(\n",
        "  model4_prediction[4,\"mean_humidity\"],\n",
        "  model4_prediction[4,\"mean_wind_speed\"],\n",
        "  model4_prediction[4,\"mean_dew_point_temp\"],\n",
        "  model4_prediction[4,\"mean_solar_radiation\"],\n",
        "  model4_prediction[4,\"mean_rainfall\"],\n",
        "  model4_prediction[4,\"seasons\"],\n",
        "  model4_prediction[4,\"holiday\"],\n",
        "  model4_prediction[4,\"weekend\"]\n",
        "  )\n",
        "\n",
        "prediction4"
      ]
    },
    {
      "cell_type": "code",
      "execution_count": null,
      "metadata": {
        "id": "GW4j3jZM0czs",
        "colab": {
          "base_uri": "https://localhost:8080/",
          "height": 167
        },
        "outputId": "1e252ac9-891c-43af-b302-34431b8dfc21"
      },
      "outputs": [
        {
          "output_type": "display_data",
          "data": {
            "text/html": [
              "<table class=\"dataframe\">\n",
              "<caption>A tibble: 1 × 13</caption>\n",
              "<thead>\n",
              "\t<tr><th scope=col>date</th><th scope=col>sum_bike_count</th><th scope=col>mean_temp</th><th scope=col>mean_humidity</th><th scope=col>mean_wind_speed</th><th scope=col>mean_visibility</th><th scope=col>mean_dew_point_temp</th><th scope=col>mean_solar_radiation</th><th scope=col>mean_rainfall</th><th scope=col>mean_snowfall</th><th scope=col>seasons</th><th scope=col>holiday</th><th scope=col>weekend</th></tr>\n",
              "\t<tr><th scope=col>&lt;date&gt;</th><th scope=col>&lt;dbl&gt;</th><th scope=col>&lt;dbl&gt;</th><th scope=col>&lt;dbl&gt;</th><th scope=col>&lt;dbl&gt;</th><th scope=col>&lt;dbl&gt;</th><th scope=col>&lt;dbl&gt;</th><th scope=col>&lt;dbl&gt;</th><th scope=col>&lt;dbl&gt;</th><th scope=col>&lt;dbl&gt;</th><th scope=col>&lt;fct&gt;</th><th scope=col>&lt;fct&gt;</th><th scope=col>&lt;fct&gt;</th></tr>\n",
              "</thead>\n",
              "<tbody>\n",
              "\t<tr><td>2020-09-04</td><td>21.54331</td><td>4.677983</td><td>6.185999</td><td>1.46538</td><td>12.40964</td><td>4.941574</td><td>0.686555</td><td>0</td><td>0</td><td>Winter</td><td>Holiday</td><td>FALSE</td></tr>\n",
              "</tbody>\n",
              "</table>\n"
            ],
            "text/markdown": "\nA tibble: 1 × 13\n\n| date &lt;date&gt; | sum_bike_count &lt;dbl&gt; | mean_temp &lt;dbl&gt; | mean_humidity &lt;dbl&gt; | mean_wind_speed &lt;dbl&gt; | mean_visibility &lt;dbl&gt; | mean_dew_point_temp &lt;dbl&gt; | mean_solar_radiation &lt;dbl&gt; | mean_rainfall &lt;dbl&gt; | mean_snowfall &lt;dbl&gt; | seasons &lt;fct&gt; | holiday &lt;fct&gt; | weekend &lt;fct&gt; |\n|---|---|---|---|---|---|---|---|---|---|---|---|---|\n| 2020-09-04 | 21.54331 | 4.677983 | 6.185999 | 1.46538 | 12.40964 | 4.941574 | 0.686555 | 0 | 0 | Winter | Holiday | FALSE |\n\n",
            "text/latex": "A tibble: 1 × 13\n\\begin{tabular}{lllllllllllll}\n date & sum\\_bike\\_count & mean\\_temp & mean\\_humidity & mean\\_wind\\_speed & mean\\_visibility & mean\\_dew\\_point\\_temp & mean\\_solar\\_radiation & mean\\_rainfall & mean\\_snowfall & seasons & holiday & weekend\\\\\n <date> & <dbl> & <dbl> & <dbl> & <dbl> & <dbl> & <dbl> & <dbl> & <dbl> & <dbl> & <fct> & <fct> & <fct>\\\\\n\\hline\n\t 2020-09-04 & 21.54331 & 4.677983 & 6.185999 & 1.46538 & 12.40964 & 4.941574 & 0.686555 & 0 & 0 & Winter & Holiday & FALSE\\\\\n\\end{tabular}\n",
            "text/plain": [
              "  date       sum_bike_count mean_temp mean_humidity mean_wind_speed\n",
              "1 2020-09-04 21.54331       4.677983  6.185999      1.46538        \n",
              "  mean_visibility mean_dew_point_temp mean_solar_radiation mean_rainfall\n",
              "1 12.40964        4.941574            0.686555             0            \n",
              "  mean_snowfall seasons holiday weekend\n",
              "1 0             Winter  Holiday FALSE  "
            ]
          },
          "metadata": {}
        }
      ],
      "source": [
        "model4_prediction[5,] # five row of model 4 prediction"
      ]
    },
    {
      "cell_type": "code",
      "execution_count": null,
      "metadata": {
        "id": "viAEOKei0e_e",
        "colab": {
          "base_uri": "https://localhost:8080/",
          "height": 34
        },
        "outputId": "ba3a8b78-b0cc-4d60-d97c-93d98a36577f"
      },
      "outputs": [
        {
          "output_type": "display_data",
          "data": {
            "text/html": [
              "20.3371656613014"
            ],
            "text/markdown": "20.3371656613014",
            "text/latex": "20.3371656613014",
            "text/plain": [
              "[1] 20.33717"
            ]
          },
          "metadata": {}
        }
      ],
      "source": [
        "prediction5 <- pred_bike_count(\n",
        "  model4_prediction[5,\"mean_humidity\"],\n",
        "  model4_prediction[5,\"mean_wind_speed\"],\n",
        "  model4_prediction[5,\"mean_dew_point_temp\"],\n",
        "  model4_prediction[5,\"mean_solar_radiation\"],\n",
        "  model4_prediction[5,\"mean_rainfall\"],\n",
        "  model4_prediction[5,\"seasons\"],\n",
        "  model4_prediction[5,\"holiday\"],\n",
        "  model4_prediction[5,\"weekend\"]\n",
        "  )\n",
        "\n",
        "prediction5"
      ]
    },
    {
      "cell_type": "markdown",
      "metadata": {
        "id": "-uayEE0f0grh"
      },
      "source": [
        "## Prediction table of daily bike demand"
      ]
    },
    {
      "cell_type": "code",
      "execution_count": null,
      "metadata": {
        "id": "LwV4_otR0i_v",
        "colab": {
          "base_uri": "https://localhost:8080/",
          "height": 255
        },
        "outputId": "43a3c486-84b7-4818-d8cf-5a8cd9566c9e"
      },
      "outputs": [
        {
          "output_type": "display_data",
          "data": {
            "text/html": [
              "<table class=\"dataframe\">\n",
              "<caption>A data.frame: 5 × 2</caption>\n",
              "<thead>\n",
              "\t<tr><th scope=col>actual_bikecount</th><th scope=col>predicted_bikecount</th></tr>\n",
              "\t<tr><th scope=col>&lt;dbl&gt;</th><th scope=col>&lt;dbl&gt;</th></tr>\n",
              "</thead>\n",
              "<tbody>\n",
              "\t<tr><td>14.95501</td><td>16.20181</td></tr>\n",
              "\t<tr><td>17.79364</td><td>16.27909</td></tr>\n",
              "\t<tr><td>20.42867</td><td>19.60029</td></tr>\n",
              "\t<tr><td>20.28287</td><td>21.44509</td></tr>\n",
              "\t<tr><td>21.54331</td><td>20.33717</td></tr>\n",
              "</tbody>\n",
              "</table>\n"
            ],
            "text/markdown": "\nA data.frame: 5 × 2\n\n| actual_bikecount &lt;dbl&gt; | predicted_bikecount &lt;dbl&gt; |\n|---|---|\n| 14.95501 | 16.20181 |\n| 17.79364 | 16.27909 |\n| 20.42867 | 19.60029 |\n| 20.28287 | 21.44509 |\n| 21.54331 | 20.33717 |\n\n",
            "text/latex": "A data.frame: 5 × 2\n\\begin{tabular}{ll}\n actual\\_bikecount & predicted\\_bikecount\\\\\n <dbl> & <dbl>\\\\\n\\hline\n\t 14.95501 & 16.20181\\\\\n\t 17.79364 & 16.27909\\\\\n\t 20.42867 & 19.60029\\\\\n\t 20.28287 & 21.44509\\\\\n\t 21.54331 & 20.33717\\\\\n\\end{tabular}\n",
            "text/plain": [
              "  actual_bikecount predicted_bikecount\n",
              "1 14.95501         16.20181           \n",
              "2 17.79364         16.27909           \n",
              "3 20.42867         19.60029           \n",
              "4 20.28287         21.44509           \n",
              "5 21.54331         20.33717           "
            ]
          },
          "metadata": {}
        }
      ],
      "source": [
        "actual_bikecount <- c(model4_prediction[1,]$sum_bike_count, model4_prediction[2,]$sum_bike_count, model4_prediction[3,]$sum_bike_count, model4_prediction[4,]$sum_bike_count, model4_prediction[5,]$sum_bike_count)\n",
        "predicted_bikecount <- c(prediction1, prediction2, prediction3, prediction4, prediction5)\n",
        "\n",
        "df_prediction <- data.frame(actual_bikecount, predicted_bikecount)\n",
        "\n",
        "df_prediction # final prediction table"
      ]
    }
  ]
}
